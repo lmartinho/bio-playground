{
 "cells": [
  {
   "cell_type": "markdown",
   "metadata": {},
   "source": [
    "# Biopython Tutorial\n",
    "Following along http://biopython.org/DIST/docs/tutorial/Tutorial.html#htoc1"
   ]
  },
  {
   "cell_type": "code",
   "execution_count": null,
   "metadata": {},
   "outputs": [],
   "source": [
    "from Bio.Seq import Seq\n",
    "\n",
    "my_seq = Seq(\"AGTACACTGGT\")\n",
    "my_seq"
   ]
  },
  {
   "cell_type": "code",
   "execution_count": null,
   "metadata": {},
   "outputs": [],
   "source": [
    "print(my_seq)\n",
    "my_seq.alphabet"
   ]
  },
  {
   "cell_type": "code",
   "execution_count": null,
   "metadata": {},
   "outputs": [],
   "source": [
    "my_seq.complement()\n",
    "my_seq.reverse_complement()"
   ]
  },
  {
   "cell_type": "markdown",
   "metadata": {},
   "source": [
    "Sequence I/O: \n",
    "See: https://biopython.org/wiki/SeqIO"
   ]
  },
  {
   "cell_type": "code",
   "execution_count": null,
   "metadata": {},
   "outputs": [],
   "source": [
    "# Download the orchid FASTA file\n",
    "import urllib.request\n",
    "\n",
    "fasta_url = 'https://raw.githubusercontent.com/biopython/biopython/master/Doc/examples/ls_orchid.fasta'\n",
    "response = urllib.request.urlopen(fasta_url)\n",
    "data = response.read()      # a `bytes` object\n",
    "fasta = data.decode('utf-8') # a `str`; this step can't be used if data is binary\n",
    "with open('ls_orchid.fasta', 'w+') as f:\n",
    "    f.write(fasta)\n",
    "\n",
    "# Download the GenBank file\n",
    "gbk_url = 'https://raw.githubusercontent.com/biopython/biopython/master/Doc/examples/ls_orchid.gbk'\n",
    "response = urllib.request.urlopen(gbk_url)\n",
    "data = response.read()      # a `bytes` object\n",
    "gbk = data.decode('utf-8') # a `str`; this step can't be used if data is binary\n",
    "with open('ls_orchid.gbk', 'w+') as f:\n",
    "    f.write(gbk)\n",
    "    "
   ]
  },
  {
   "cell_type": "code",
   "execution_count": null,
   "metadata": {},
   "outputs": [],
   "source": [
    "# 2.4.1  Simple FASTA parsing example\n",
    "for seq_record in SeqIO.parse(\"ls_orchid.fasta\", \"fasta\"):\n",
    "    print(seq_record.id)\n",
    "    print(repr(seq_record.seq))\n",
    "    print(len(seq_record))\n"
   ]
  },
  {
   "cell_type": "code",
   "execution_count": null,
   "metadata": {},
   "outputs": [],
   "source": [
    "# 2.4.2 Simple GenBank parsing example\n",
    "for seq_record in SeqIO.parse(\"ls_orchid.gbk\", \"genbank\"):\n",
    "    print(seq_record.id)\n",
    "    print(repr(seq_record.seq))\n",
    "    print(len(seq_record))\n"
   ]
  },
  {
   "cell_type": "code",
   "execution_count": null,
   "metadata": {},
   "outputs": [],
   "source": [
    "# Quick check to see if the same sequences were parsed\n",
    "fasta = SeqIO.parse(\"ls_orchid.fasta\", \"fasta\")\n",
    "genbank = SeqIO.parse(\"ls_orchid.gbk\", \"genbank\")\n",
    "\n",
    "f_seqs = [x.seq for x in fasta]\n",
    "g_seqs = [x.seq for x in genbank]\n",
    "\n",
    "f_seqs == g_seqs"
   ]
  }
 ],
 "metadata": {
  "kernelspec": {
   "display_name": "Python 3",
   "language": "python",
   "name": "python3"
  },
  "language_info": {
   "codemirror_mode": {
    "name": "ipython",
    "version": 3
   },
   "file_extension": ".py",
   "mimetype": "text/x-python",
   "name": "python",
   "nbconvert_exporter": "python",
   "pygments_lexer": "ipython3",
   "version": "3.7.6"
  }
 },
 "nbformat": 4,
 "nbformat_minor": 4
}
