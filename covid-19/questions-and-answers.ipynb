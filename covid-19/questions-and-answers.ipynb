{
 "cells": [
  {
   "cell_type": "markdown",
   "metadata": {},
   "source": [
    "# Questions and Answers\n",
    "\n",
    "### Q: How are they able to isolate the viral RNA? Does NGS (next-gen sequencing) collect bits and pieces and then they assemble them together (align them) using a reference genome?\n",
    "\n",
    "### Q: If mPro, aka [SARS coronavirus main proteinase](https://enzyme.expasy.org/EC/3.4.22.69) is so relevant, [Nature paper](https://www.nature.com/articles/s41586-020-2223-y), what is coding it? I can't find it anywhere in the [SARS-CoV-2 genome](https://www.ncbi.nlm.nih.gov/nuccore/MN908947.3?report=graph)\n",
    "\n",
    "### Q: What is organic chemistry? What do I absolutely need to know in order to understand nucleic acids? Is that question even formulated correctly?\n",
    "\n",
    "A: Organic chemistry seems to study organic compounds, i.e., the ones that have carbon in them.\n"
   ]
  },
  {
   "cell_type": "markdown",
   "metadata": {},
   "source": [
    "Citations\n",
    "\n",
    "- Jin, Z., Du, X., Xu, Y. et al. Structure of Mpro from COVID-19 virus and discovery of its inhibitors. Nature (2020). https://doi.org/10.1038/s41586-020-2223-y"
   ]
  },
  {
   "cell_type": "code",
   "execution_count": null,
   "metadata": {},
   "outputs": [],
   "source": []
  }
 ],
 "metadata": {
  "kernelspec": {
   "display_name": "Python 3",
   "language": "python",
   "name": "python3"
  },
  "language_info": {
   "codemirror_mode": {
    "name": "ipython",
    "version": 3
   },
   "file_extension": ".py",
   "mimetype": "text/x-python",
   "name": "python",
   "nbconvert_exporter": "python",
   "pygments_lexer": "ipython3",
   "version": "3.7.7"
  }
 },
 "nbformat": 4,
 "nbformat_minor": 4
}
